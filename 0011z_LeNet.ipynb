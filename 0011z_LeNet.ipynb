{
  "nbformat": 4,
  "nbformat_minor": 0,
  "metadata": {
    "colab": {
      "name": "0011z_LeNet.ipynb",
      "provenance": [],
      "collapsed_sections": [],
      "include_colab_link": true
    },
    "kernelspec": {
      "name": "python3",
      "display_name": "Python 3"
    },
    "accelerator": "GPU"
  },
  "cells": [
    {
      "cell_type": "markdown",
      "metadata": {
        "id": "view-in-github",
        "colab_type": "text"
      },
      "source": [
        "<a href=\"https://colab.research.google.com/github/gundasai/Gender-Recognition-by-Voice-in-python/blob/master/0011z_LeNet.ipynb\" target=\"_parent\"><img src=\"https://colab.research.google.com/assets/colab-badge.svg\" alt=\"Open In Colab\"/></a>"
      ]
    },
    {
      "cell_type": "markdown",
      "metadata": {
        "id": "LcTlE8AAz1y3",
        "colab_type": "text"
      },
      "source": [
        "# tamato \n"
      ]
    },
    {
      "cell_type": "code",
      "metadata": {
        "id": "RoO2sto-y1gM",
        "colab_type": "code",
        "outputId": "e9df6e9f-bb95-4a7e-f8a7-8d91bd928f8a",
        "colab": {
          "base_uri": "https://localhost:8080/",
          "height": 124
        }
      },
      "source": [
        "from google.colab import drive\n",
        "drive.mount('/content/drive/')"
      ],
      "execution_count": 0,
      "outputs": [
        {
          "output_type": "stream",
          "text": [
            "Go to this URL in a browser: https://accounts.google.com/o/oauth2/auth?client_id=947318989803-6bn6qk8qdgf4n4g3pfee6491hc0brc4i.apps.googleusercontent.com&redirect_uri=urn%3aietf%3awg%3aoauth%3a2.0%3aoob&response_type=code&scope=email%20https%3a%2f%2fwww.googleapis.com%2fauth%2fdocs.test%20https%3a%2f%2fwww.googleapis.com%2fauth%2fdrive%20https%3a%2f%2fwww.googleapis.com%2fauth%2fdrive.photos.readonly%20https%3a%2f%2fwww.googleapis.com%2fauth%2fpeopleapi.readonly\n",
            "\n",
            "Enter your authorization code:\n",
            "··········\n",
            "Mounted at /content/drive/\n"
          ],
          "name": "stdout"
        }
      ]
    },
    {
      "cell_type": "code",
      "metadata": {
        "id": "M3gvTLHF0WrA",
        "colab_type": "code",
        "outputId": "2bf37ee3-4616-4618-dbff-f9ae2c3f024b",
        "colab": {
          "base_uri": "https://localhost:8080/",
          "height": 34
        }
      },
      "source": [
        "import os\n",
        "os.chdir('/content/drive/My Drive/PlantVillage')\n",
        "os.getcwd()"
      ],
      "execution_count": 0,
      "outputs": [
        {
          "output_type": "execute_result",
          "data": {
            "text/plain": [
              "'/content/drive/My Drive/PlantVillage'"
            ]
          },
          "metadata": {
            "tags": []
          },
          "execution_count": 2
        }
      ]
    },
    {
      "cell_type": "markdown",
      "metadata": {
        "id": "D_GLvaZxRf22",
        "colab_type": "text"
      },
      "source": [
        "### Datasets and Pre Processing"
      ]
    },
    {
      "cell_type": "code",
      "metadata": {
        "id": "lprTCs8D0W4z",
        "colab_type": "code",
        "colab": {}
      },
      "source": [
        "import keras\n",
        "import keras\n",
        "from keras.preprocessing import image\n",
        "import numpy as np\n",
        "import pandas as pd\n",
        "x=[]\n",
        "y=[]\n",
        "path='/content/drive/My Drive/PlantVillage/Tomato__Target_Spot'\n",
        "for i in os.listdir(path):\n",
        "  img=image.load_img(os.path.join(path,i),color_mode='rgb')\n",
        "  img=image.img_to_array(img)\n",
        "  img=img/255.0\n",
        "  x.append(img)\n",
        "  y.append(0)\n",
        "path='/content/drive/My Drive/PlantVillage/Tomato__Tomato_mosaic_virus'\n",
        "for i in os.listdir(path):\n",
        "  img=image.load_img(os.path.join(path,i),color_mode='rgb')\n",
        "  img=image.img_to_array(img)\n",
        "  img=img/255.0\n",
        "  x.append(img)\n",
        "  y.append(1)\n",
        "x=np.array(x)\n",
        "y=np.array(y)"
      ],
      "execution_count": 0,
      "outputs": []
    },
    {
      "cell_type": "code",
      "metadata": {
        "id": "sXI5_11wGoVi",
        "colab_type": "code",
        "colab": {}
      },
      "source": [
        "from sklearn.utils import shuffle\n",
        "(x,y)=shuffle(x,y)"
      ],
      "execution_count": 0,
      "outputs": []
    },
    {
      "cell_type": "code",
      "metadata": {
        "id": "mtwQiJg9D2Ja",
        "colab_type": "code",
        "colab": {}
      },
      "source": [
        "from sklearn.model_selection import train_test_split\n",
        "xtrain, xtest, ytrain, ytest = train_test_split(x, y, test_size=0.33, random_state=42)"
      ],
      "execution_count": 0,
      "outputs": []
    },
    {
      "cell_type": "code",
      "metadata": {
        "id": "e4xqjBZbD2P0",
        "colab_type": "code",
        "outputId": "7e2905b7-f2e2-4fa0-fac1-0723dcbf78f5",
        "colab": {
          "base_uri": "https://localhost:8080/",
          "height": 190
        }
      },
      "source": [
        "print(xtrain.shape)\n",
        "print(ytrain.shape)\n",
        "\n",
        "print(xtest.shape)\n",
        "print(ytest.shape)\n",
        "\n",
        "print(xtrain.ndim)\n",
        "print(xtrain.dtype)\n",
        "\n",
        "print(xtrain.ndim)\n",
        "print(xtrain.dtype)\n",
        "\n",
        "print(xtest.ndim)\n",
        "print(xtest.dtype)"
      ],
      "execution_count": 0,
      "outputs": [
        {
          "output_type": "stream",
          "text": [
            "(1190, 256, 256, 3)\n",
            "(1190,)\n",
            "(587, 256, 256, 3)\n",
            "(587,)\n",
            "4\n",
            "float32\n",
            "4\n",
            "float32\n",
            "4\n",
            "float32\n"
          ],
          "name": "stdout"
        }
      ]
    },
    {
      "cell_type": "code",
      "metadata": {
        "id": "S3xk-bBLD2Nk",
        "colab_type": "code",
        "outputId": "66a4465e-7366-4aea-f62c-ce8a2446999d",
        "colab": {
          "base_uri": "https://localhost:8080/",
          "height": 286
        }
      },
      "source": [
        "import matplotlib.pyplot as plt\n",
        "%matplotlib inline\n",
        "plt.imshow(xtest[0], cmap='brg')"
      ],
      "execution_count": 0,
      "outputs": [
        {
          "output_type": "execute_result",
          "data": {
            "text/plain": [
              "<matplotlib.image.AxesImage at 0x7fbcabe50e10>"
            ]
          },
          "metadata": {
            "tags": []
          },
          "execution_count": 9
        },
        {
          "output_type": "display_data",
          "data": {
            "image/png": "[encoded data removed]",
            "text/plain": [
              "<Figure size 432x288 with 1 Axes>"
            ]
          },
          "metadata": {
            "tags": []
          }
        }
      ]
    },
    {
      "cell_type": "code",
      "metadata": {
        "id": "4fcunBsjD2Fv",
        "colab_type": "code",
        "outputId": "2fdb7cd8-5940-449b-958c-57f9d37c211d",
        "colab": {
          "base_uri": "https://localhost:8080/",
          "height": 69
        }
      },
      "source": [
        "print(xtrain.shape[0])\n",
        "print(xtrain.shape[1])\n",
        "print(xtrain.shape[2])"
      ],
      "execution_count": 0,
      "outputs": [
        {
          "output_type": "stream",
          "text": [
            "1190\n",
            "256\n",
            "256\n"
          ],
          "name": "stdout"
        }
      ]
    },
    {
      "cell_type": "code",
      "metadata": {
        "id": "1cP9X7xZ2eLs",
        "colab_type": "code",
        "colab": {}
      },
      "source": [
        "xtrain = xtrain.astype('float32')\n",
        "xtest  = xtest.astype('float32')"
      ],
      "execution_count": 0,
      "outputs": []
    },
    {
      "cell_type": "code",
      "metadata": {
        "id": "9s6UNFM62Djm",
        "colab_type": "code",
        "outputId": "b2f376fb-63d0-44b8-9331-77c417b1b250",
        "colab": {
          "base_uri": "https://localhost:8080/",
          "height": 155
        }
      },
      "source": [
        "#keras.utils.normalize(a, axis=-1, order=2)\n",
        "print (np.max(xtrain),np.max(xtest))\n",
        "print (np.min(xtrain),np.min(xtest))\n",
        "\n",
        "print (np.max(ytrain),np.max(ytest))\n",
        "print (np.min(ytrain),np.min(ytest))\n",
        "\n",
        "mean = np.mean(xtrain)\n",
        "std  = np.std(xtrain)\n",
        "\n",
        "print(mean)\n",
        "print(std)\n",
        "\n",
        "xtrain -= mean\n",
        "xtrain /= std\n",
        "\n",
        "xtest -= mean\n",
        "xtest /= std\n",
        "\n",
        "print (np.max(xtrain),np.max(xtest))\n",
        "print (np.min(xtrain),np.min(xtest))"
      ],
      "execution_count": 0,
      "outputs": [
        {
          "output_type": "stream",
          "text": [
            "1.0 1.0\n",
            "0.0 0.0\n",
            "1 1\n",
            "0 0\n",
            "0.4601809\n",
            "0.18787156\n",
            "2.8733413 2.8733413\n",
            "-2.4494443 -2.4494443\n"
          ],
          "name": "stdout"
        }
      ]
    },
    {
      "cell_type": "code",
      "metadata": {
        "id": "7A91IbEa0W8s",
        "colab_type": "code",
        "colab": {}
      },
      "source": [
        "xtrain = xtrain.reshape(xtrain.shape[0],256,256,3)\n",
        "xtest =  xtest.reshape(xtest.shape[0],256,256,3)"
      ],
      "execution_count": 0,
      "outputs": []
    },
    {
      "cell_type": "code",
      "metadata": {
        "id": "zMbLmBA_0W2F",
        "colab_type": "code",
        "outputId": "84b520a2-3206-4f28-8594-f0cecd3944fb",
        "colab": {
          "base_uri": "https://localhost:8080/",
          "height": 34
        }
      },
      "source": [
        "from keras.utils import to_categorical\n",
        "ytrain = to_categorical(ytrain)\n",
        "ytest  =  to_categorical(ytest)\n",
        "print(ytest[0])"
      ],
      "execution_count": 0,
      "outputs": [
        {
          "output_type": "stream",
          "text": [
            "[1. 0.]\n"
          ],
          "name": "stdout"
        }
      ]
    },
    {
      "cell_type": "markdown",
      "metadata": {
        "id": "Kk6PWrfHRpSI",
        "colab_type": "text"
      },
      "source": [
        "### LeNet Model"
      ]
    },
    {
      "cell_type": "code",
      "metadata": {
        "id": "7W8d09qsELhH",
        "colab_type": "code",
        "colab": {}
      },
      "source": [
        "import keras\n",
        "from keras import models\n",
        "from keras import layers"
      ],
      "execution_count": 0,
      "outputs": []
    },
    {
      "cell_type": "code",
      "metadata": {
        "id": "M4Bna6oRELmu",
        "colab_type": "code",
        "outputId": "8323d3d4-7934-4cac-91a8-8cec0796145e",
        "colab": {
          "base_uri": "https://localhost:8080/",
          "height": 432
        }
      },
      "source": [
        "model = models.Sequential()\n",
        "\n",
        "model.add(layers.Conv2D(6, (5,5), input_shape=(256,256,3), activation='relu', strides=(1,1), padding='valid'))\n",
        "model.add(layers.AveragePooling2D(pool_size=(2,2), strides=(2,2)))\n",
        "\n",
        "model.add(layers.Conv2D(16, (5,5),activation='relu', strides=(1,1), padding='valid'))\n",
        "model.add(layers.AveragePooling2D(pool_size=(2,2), strides=(2,2)))\n",
        "\n",
        "model.add(layers.Flatten())\n",
        "\n",
        "model.add(layers.Dense(120, activation='relu'))\n",
        "model.add(layers.Dense(84, activation='relu'))\n",
        "\n",
        "model.add(layers.Dense(2, activation='softmax'))\n",
        "\n",
        "model.summary()"
      ],
      "execution_count": 0,
      "outputs": [
        {
          "output_type": "stream",
          "text": [
            "Model: \"sequential_2\"\n",
            "_________________________________________________________________\n",
            "Layer (type)                 Output Shape              Param #   \n",
            "=================================================================\n",
            "conv2d_3 (Conv2D)            (None, 252, 252, 6)       456       \n",
            "_________________________________________________________________\n",
            "average_pooling2d_3 (Average (None, 126, 126, 6)       0         \n",
            "_________________________________________________________________\n",
            "conv2d_4 (Conv2D)            (None, 122, 122, 16)      2416      \n",
            "_________________________________________________________________\n",
            "average_pooling2d_4 (Average (None, 61, 61, 16)        0         \n",
            "_________________________________________________________________\n",
            "flatten_2 (Flatten)          (None, 59536)             0         \n",
            "_________________________________________________________________\n",
            "dense_4 (Dense)              (None, 120)               7144440   \n",
            "_________________________________________________________________\n",
            "dense_5 (Dense)              (None, 84)                10164     \n",
            "_________________________________________________________________\n",
            "dense_6 (Dense)              (None, 2)                 170       \n",
            "=================================================================\n",
            "Total params: 7,157,646\n",
            "Trainable params: 7,157,646\n",
            "Non-trainable params: 0\n",
            "_________________________________________________________________\n"
          ],
          "name": "stdout"
        }
      ]
    },
    {
      "cell_type": "markdown",
      "metadata": {
        "id": "MD0IUy1HRwUS",
        "colab_type": "text"
      },
      "source": [
        "### Visualization of randomly initialized filters"
      ]
    },
    {
      "cell_type": "code",
      "metadata": {
        "id": "LibQa_Z0ELrx",
        "colab_type": "code",
        "outputId": "1e3876d2-0c25-44d4-e571-3a8da9aace4b",
        "colab": {
          "base_uri": "https://localhost:8080/",
          "height": 235
        }
      },
      "source": [
        "weight_conv2d_1 = model.layers[0].get_weights()[0][:,:,0,:]\n",
        " \n",
        "col_size = 3\n",
        "row_size = 2\n",
        "filter_index = 0\n",
        "fig, ax = plt.subplots(row_size, col_size, figsize=(5,5))\n",
        "for row in range(0,row_size): \n",
        "  for col in range(0,col_size):\n",
        "    ax[row][col].imshow(weight_conv2d_1[:,:,filter_index],cmap=\"bgr\")\n",
        "    filter_index += 1"
      ],
      "execution_count": 0,
      "outputs": [
        {
          "output_type": "error",
          "ename": "NameError",
          "evalue": "ignored",
          "traceback": [
            "\u001b[0;31m---------------------------------------------------------------------------\u001b[0m",
            "\u001b[0;31mNameError\u001b[0m                                 Traceback (most recent call last)",
            "\u001b[0;32m<ipython-input-1-4b21fcddfd5f>\u001b[0m in \u001b[0;36m<module>\u001b[0;34m()\u001b[0m\n\u001b[0;32m----> 1\u001b[0;31m \u001b[0mweight_conv2d_1\u001b[0m \u001b[0;34m=\u001b[0m \u001b[0mmodel\u001b[0m\u001b[0;34m.\u001b[0m\u001b[0mlayers\u001b[0m\u001b[0;34m[\u001b[0m\u001b[0;36m0\u001b[0m\u001b[0;34m]\u001b[0m\u001b[0;34m.\u001b[0m\u001b[0mget_weights\u001b[0m\u001b[0;34m(\u001b[0m\u001b[0;34m)\u001b[0m\u001b[0;34m[\u001b[0m\u001b[0;36m0\u001b[0m\u001b[0;34m]\u001b[0m\u001b[0;34m[\u001b[0m\u001b[0;34m:\u001b[0m\u001b[0;34m,\u001b[0m\u001b[0;34m:\u001b[0m\u001b[0;34m,\u001b[0m\u001b[0;36m0\u001b[0m\u001b[0;34m,\u001b[0m\u001b[0;34m:\u001b[0m\u001b[0;34m]\u001b[0m\u001b[0;34m\u001b[0m\u001b[0;34m\u001b[0m\u001b[0m\n\u001b[0m\u001b[1;32m      2\u001b[0m \u001b[0;34m\u001b[0m\u001b[0m\n\u001b[1;32m      3\u001b[0m \u001b[0mcol_size\u001b[0m \u001b[0;34m=\u001b[0m \u001b[0;36m3\u001b[0m\u001b[0;34m\u001b[0m\u001b[0;34m\u001b[0m\u001b[0m\n\u001b[1;32m      4\u001b[0m \u001b[0mrow_size\u001b[0m \u001b[0;34m=\u001b[0m \u001b[0;36m2\u001b[0m\u001b[0;34m\u001b[0m\u001b[0;34m\u001b[0m\u001b[0m\n\u001b[1;32m      5\u001b[0m \u001b[0mfilter_index\u001b[0m \u001b[0;34m=\u001b[0m \u001b[0;36m0\u001b[0m\u001b[0;34m\u001b[0m\u001b[0;34m\u001b[0m\u001b[0m\n",
            "\u001b[0;31mNameError\u001b[0m: name 'model' is not defined"
          ]
        }
      ]
    },
    {
      "cell_type": "code",
      "metadata": {
        "id": "ggvk1lXjEZnW",
        "colab_type": "code",
        "outputId": "3bf0a69a-fba8-4fd4-c44a-02891f76d412",
        "colab": {
          "base_uri": "https://localhost:8080/",
          "height": 622
        }
      },
      "source": [
        "print(weight_conv2d_1[:,:,0])\n",
        "print(\"\")\n",
        "print(weight_conv2d_1[:,:,1])\n",
        "print(\"\")\n",
        "print(weight_conv2d_1[:,:,2])\n",
        "print(\"\")\n",
        "print(weight_conv2d_1[:,:,3])\n",
        "print(\"\")\n",
        "print(weight_conv2d_1[:,:,4])\n",
        "print(\"\")\n",
        "print(weight_conv2d_1[:,:,5])"
      ],
      "execution_count": 0,
      "outputs": [
        {
          "output_type": "stream",
          "text": [
            "[[ 0.09090638 -0.1024743  -0.12471508 -0.09387411 -0.15254442]\n",
            " [-0.14411667  0.15558824  0.01075104  0.04250716  0.02201375]\n",
            " [-0.13628957 -0.05449878 -0.04257116 -0.10284378  0.04703233]\n",
            " [ 0.15253308  0.09311128 -0.0004095  -0.11663928 -0.03432934]\n",
            " [-0.01771899  0.08274977 -0.01376373 -0.05034842 -0.01953442]]\n",
            "\n",
            "[[ 0.0327574   0.07632472 -0.14404008 -0.03776772  0.16293103]\n",
            " [ 0.16021466 -0.00687645 -0.0297443  -0.09720962 -0.04995444]\n",
            " [-0.10264483 -0.1070205  -0.04170399 -0.11176896  0.05688053]\n",
            " [-0.14052847  0.04067801 -0.15631098  0.04173093 -0.03774257]\n",
            " [-0.08318999 -0.16033122 -0.13253033  0.04521775 -0.10315731]]\n",
            "\n",
            "[[ 0.01011498  0.14952284  0.1616807  -0.03528692  0.0938842 ]\n",
            " [-0.08708534  0.10577366  0.04990746  0.12412196  0.06425168]\n",
            " [-0.07737857 -0.10349133  0.08881557 -0.04153416  0.01673089]\n",
            " [ 0.11407068 -0.11113715 -0.10605873 -0.12057679  0.12605688]\n",
            " [-0.13638526  0.06469637 -0.11594684  0.04959019  0.07400127]]\n",
            "\n",
            "[[ 0.1419557   0.03678979  0.05312726  0.09956172  0.07586627]\n",
            " [-0.14649804 -0.1486283   0.10092539 -0.10240835 -0.04305849]\n",
            " [ 0.11152926 -0.05057606 -0.10141048  0.11560673  0.10031128]\n",
            " [ 0.14734945 -0.01676196  0.06105095 -0.01569331 -0.01703699]\n",
            " [-0.02203859 -0.04191812  0.13654903 -0.09368443 -0.11100979]]\n",
            "\n",
            "[[-0.11289956 -0.09680923 -0.11654884 -0.08067134  0.06927851]\n",
            " [-0.0182166  -0.13646893  0.08042824 -0.12387672  0.12527865]\n",
            " [ 0.15931284 -0.12671775 -0.1348766  -0.08572986  0.15836772]\n",
            " [ 0.04804526  0.07451527 -0.11699452  0.05148913  0.10228097]\n",
            " [-0.14063802  0.04465847 -0.09272537  0.09432858  0.13407686]]\n",
            "\n",
            "[[-0.07639752  0.14691019 -0.02805239  0.04936223  0.14012873]\n",
            " [-0.16147019 -0.00332712 -0.11040722  0.05796091  0.11206356]\n",
            " [-0.1437515  -0.00090669 -0.02767594 -0.14732942  0.03242093]\n",
            " [-0.1384009   0.00374366 -0.09402855 -0.11113679  0.08159122]\n",
            " [ 0.03727829 -0.11512671 -0.15362312 -0.0425302   0.02135885]]\n"
          ],
          "name": "stdout"
        }
      ]
    },
    {
      "cell_type": "code",
      "metadata": {
        "id": "cRytZyDrELwu",
        "colab_type": "code",
        "outputId": "76e0b36d-921a-48e0-a423-2151577c8950",
        "colab": {
          "base_uri": "https://localhost:8080/",
          "height": 483
        }
      },
      "source": [
        "weight_conv2d_2 = model.layers[2].get_weights()[0][:,:,0,:]\n",
        "#plt.axis=(\"OFF\")\n",
        "col_size = 4\n",
        "row_size = 4\n",
        "filter_index = 0\n",
        "fig, ax = plt.subplots(row_size, col_size, figsize=(12,8))\n",
        "for row in range(0,row_size): \n",
        "  for col in range(0,col_size):\n",
        "    ax[row][col].imshow(weight_conv2d_2[:,:,filter_index],cmap=\"gray\")\n",
        "    filter_index += 1"
      ],
      "execution_count": 0,
      "outputs": [
        {
          "output_type": "display_data",
          "data": {
            "image/png": "[encoded data removed]",
            "text/plain": [
              "<Figure size 864x576 with 16 Axes>"
            ]
          },
          "metadata": {
            "tags": []
          }
        }
      ]
    },
    {
      "cell_type": "code",
      "metadata": {
        "id": "wnwxFfN-EL11",
        "colab_type": "code",
        "outputId": "d825d759-b1b5-465f-db3b-38fdf19c79e7",
        "colab": {
          "base_uri": "https://localhost:8080/",
          "height": 1000
        }
      },
      "source": [
        "print(weight_conv2d_2[:,:,0])\n",
        "print(\"\")\n",
        "print(weight_conv2d_2[:,:,1])\n",
        "print(\"\")\n",
        "print(weight_conv2d_2[:,:,2])\n",
        "print(\"\")\n",
        "print(weight_conv2d_2[:,:,3])\n",
        "print(\"\")\n",
        "print(weight_conv2d_2[:,:,4])\n",
        "print(\"\")\n",
        "print(weight_conv2d_2[:,:,5])\n",
        "print(\"\")\n",
        "print(weight_conv2d_2[:,:,6])\n",
        "print(\"\")\n",
        "print(weight_conv2d_2[:,:,7])\n",
        "print(\"\")\n",
        "print(weight_conv2d_2[:,:,8])\n",
        "print(\"\")\n",
        "print(weight_conv2d_2[:,:,9])\n",
        "print(\"\")\n",
        "print(weight_conv2d_2[:,:,10])\n",
        "print(\"\")\n",
        "print(weight_conv2d_2[:,:,11])\n",
        "print(\"\")\n",
        "print(weight_conv2d_2[:,:,12])\n",
        "print(\"\")\n",
        "print(weight_conv2d_2[:,:,13])\n",
        "print(\"\")\n",
        "print(weight_conv2d_2[:,:,14])\n",
        "print(\"\")\n",
        "print(weight_conv2d_2[:,:,15])"
      ],
      "execution_count": 0,
      "outputs": [
        {
          "output_type": "stream",
          "text": [
            "[[ 0.07095663 -0.076038   -0.05779788  0.07037282 -0.00076324]\n",
            " [-0.05162129  0.05612586 -0.06370746 -0.09985491  0.03471956]\n",
            " [ 0.05630668 -0.02196972 -0.09057463 -0.09777109 -0.06144595]\n",
            " [ 0.08286628 -0.09313184  0.06431304  0.05865286  0.06372501]\n",
            " [ 0.05752438 -0.03739079 -0.07620582  0.02445    -0.02178296]]\n",
            "\n",
            "[[-9.7110406e-02  8.2502365e-02  9.1967121e-02 -2.9515550e-02\n",
            "  -5.6922436e-05]\n",
            " [-6.7967691e-02 -9.7143158e-02  5.9075847e-02  5.5854112e-02\n",
            "   2.1050707e-02]\n",
            " [ 4.6162322e-02  8.8163391e-02  1.1813410e-02 -3.1273216e-03\n",
            "  -5.9919585e-02]\n",
            " [-3.8542978e-02 -6.5534294e-02 -1.8973961e-02 -5.3455420e-02\n",
            "   5.1555768e-02]\n",
            " [ 8.6908489e-03 -1.8554561e-02 -4.2154416e-02 -3.9854296e-02\n",
            "   3.8965359e-02]]\n",
            "\n",
            "[[ 0.00223435 -0.07766037  0.08690472  0.05941176  0.04025459]\n",
            " [-0.06460995  0.00691272 -0.03492417  0.03946188  0.07344939]\n",
            " [-0.05341871  0.10405983  0.0787304  -0.06649177  0.03128053]\n",
            " [ 0.05891643  0.01994304 -0.08535308  0.04489516 -0.03200381]\n",
            " [ 0.02438822 -0.07360939 -0.06029508  0.01127687 -0.06939194]]\n",
            "\n",
            "[[-0.09401222  0.05620931  0.08442852 -0.03893381 -0.04215021]\n",
            " [-0.08310828  0.08156615 -0.02710247 -0.10393528 -0.08001567]\n",
            " [-0.05760218  0.0989335   0.06449296 -0.04378856  0.0591772 ]\n",
            " [ 0.10097286  0.04418436 -0.00616952  0.02108379  0.00912385]\n",
            " [ 0.00759835 -0.03127074  0.04530215  0.06436531  0.03413025]]\n",
            "\n",
            "[[-0.03205486  0.00530296 -0.02023091 -0.05360421 -0.05634114]\n",
            " [ 0.06457108  0.06021659 -0.09894773  0.04252438  0.0009603 ]\n",
            " [ 0.02573593 -0.00290238  0.01285205 -0.0462627  -0.02424796]\n",
            " [-0.07101388 -0.07597841 -0.09947593 -0.03552819 -0.07338087]\n",
            " [-0.08467098 -0.03486411  0.07096761  0.02229601 -0.00802417]]\n",
            "\n",
            "[[-0.07480237  0.09667739  0.05866717  0.00306902 -0.08909814]\n",
            " [-0.0418472   0.0587083   0.04011878  0.03332138 -0.07496969]\n",
            " [ 0.01691407 -0.05992207 -0.02493027 -0.06640434 -0.01873533]\n",
            " [-0.00556201  0.09005022 -0.05169806  0.08311942 -0.02148468]\n",
            " [-0.06393257 -0.07476529 -0.00322317 -0.05414043  0.02985041]]\n",
            "\n",
            "[[ 0.06173867 -0.04970062 -0.04690702 -0.04862737 -0.08880469]\n",
            " [ 0.05744787 -0.08841983  0.09578279  0.08687167  0.03456867]\n",
            " [-0.04095877 -0.02928586  0.04876682 -0.00429437 -0.07266568]\n",
            " [-0.05815231 -0.06841724  0.10205014  0.0394832   0.07474084]\n",
            " [ 0.07036699  0.00614499  0.01558442  0.00730625  0.0843377 ]]\n",
            "\n",
            "[[ 0.10254046  0.01567069  0.0653791   0.01800714  0.06002966]\n",
            " [-0.05356086  0.03284746  0.02113219 -0.06438078 -0.08455653]\n",
            " [ 0.05688398 -0.0714923  -0.02118915  0.04621509 -0.04196972]\n",
            " [ 0.05080627 -0.00665633  0.09498517 -0.05954135 -0.06997161]\n",
            " [-0.04013235 -0.0157871   0.06393276  0.04139806 -0.00405741]]\n",
            "\n",
            "[[ 0.00298199  0.07210349 -0.03714585 -0.079377   -0.05207555]\n",
            " [ 0.03465004 -0.03258853  0.03201208  0.07917044 -0.06575729]\n",
            " [-0.03854647  0.09949099 -0.0660139  -0.04579108  0.01731474]\n",
            " [ 0.03317976 -0.05937191 -0.0269419  -0.00962014 -0.03544439]\n",
            " [ 0.0984478  -0.03244919  0.06567432  0.01408181 -0.01517643]]\n",
            "\n",
            "[[-0.03480546 -0.08185726  0.03686078  0.00103251 -0.00574221]\n",
            " [-0.06621252 -0.02169176 -0.03031097  0.07081564  0.01672212]\n",
            " [ 0.07962611 -0.03967007 -0.06849591 -0.07405327  0.0526751 ]\n",
            " [-0.06837121  0.00037883  0.02883665  0.05517292 -0.0632913 ]\n",
            " [ 0.03152305  0.03541663  0.02006263  0.07524881 -0.08755593]]\n",
            "\n",
            "[[-0.07808978  0.05860528 -0.01139307  0.10407096  0.08586185]\n",
            " [ 0.00873981  0.03758864 -0.09861663 -0.09820988  0.00551973]\n",
            " [ 0.01336204 -0.04502412 -0.00169319 -0.07458719  0.07779038]\n",
            " [-0.0447434   0.08635332 -0.06681027 -0.09571968  0.07158674]\n",
            " [-0.07693866  0.08996603  0.10420282 -0.06322314  0.06730624]]\n",
            "\n",
            "[[ 0.09121336  0.00683518  0.09374501 -0.02496618  0.03881195]\n",
            " [-0.06219919 -0.02996461 -0.05101604 -0.06460848 -0.07959063]\n",
            " [-0.00194915 -0.05926177 -0.07041362  0.01877796 -0.09599228]\n",
            " [ 0.07745057  0.03873233 -0.00191569  0.02971263 -0.06324988]\n",
            " [-0.0178781  -0.01808847  0.02704938  0.05060057 -0.05247653]]\n",
            "\n",
            "[[-0.09093048 -0.00913624 -0.02684803  0.08390032  0.02992487]\n",
            " [-0.03823387 -0.05647213  0.04472473  0.01818512  0.02348708]\n",
            " [ 0.04758124 -0.02826986 -0.09097413 -0.04478208 -0.07349083]\n",
            " [ 0.0578952  -0.07352258  0.02414469  0.02093726  0.06992649]\n",
            " [-0.03727353 -0.0205892  -0.0450614  -0.02517259 -0.08400334]]\n",
            "\n",
            "[[-0.07698127  0.07373835 -0.06378039  0.07094151  0.08900335]\n",
            " [-0.02022763  0.03980015 -0.08813752  0.01606715  0.0784073 ]\n",
            " [ 0.04427676  0.00032313  0.09495015  0.076819   -0.06931322]\n",
            " [-0.06644677 -0.08525835  0.08208847  0.05821091  0.06859677]\n",
            " [ 0.07799934  0.09469302 -0.06369632 -0.09778655 -0.0298658 ]]\n",
            "\n",
            "[[ 0.04678559 -0.0441994  -0.01664273 -0.06038428 -0.04961969]\n",
            " [-0.03354014 -0.07301918  0.08781469  0.06499317 -0.00512332]\n",
            " [-0.07814407  0.082101   -0.04594047 -0.06762673 -0.08282378]\n",
            " [-0.04745035 -0.08806388  0.04354262  0.04460485 -0.00655431]\n",
            " [ 0.05323052  0.07672207  0.05133459  0.05591238  0.01050422]]\n",
            "\n",
            "[[ 0.00307341 -0.06927362  0.04138716 -0.04166266  0.02266459]\n",
            " [ 0.00203118 -0.05120371 -0.08034491 -0.00981567 -0.02302126]\n",
            " [-0.03787185  0.08308816  0.07717727  0.01723383 -0.01084714]\n",
            " [-0.03673245  0.0659703  -0.08396334 -0.08814807  0.00177202]\n",
            " [-0.09090281  0.0212888   0.05659942  0.04147145 -0.01928155]]\n"
          ],
          "name": "stdout"
        }
      ]
    },
    {
      "cell_type": "code",
      "metadata": {
        "id": "PM_aHI4eFzDH",
        "colab_type": "code",
        "colab": {}
      },
      "source": [
        "def step_decay(epoch):\n",
        "\tinitial_lrate = 0.1\n",
        "\tdrop = 0.5\n",
        "\tepochs_drop = 10.0\n",
        "\tlrate = initial_lrate * math.pow(drop, math.floor((1+epoch)/epochs_drop))\n",
        "\treturn lrate"
      ],
      "execution_count": 0,
      "outputs": []
    },
    {
      "cell_type": "markdown",
      "metadata": {
        "id": "Mfg2xjEBR45s",
        "colab_type": "text"
      },
      "source": [
        "### Compile and Training the model"
      ]
    },
    {
      "cell_type": "code",
      "metadata": {
        "id": "rzOe9IWPEL8h",
        "colab_type": "code",
        "outputId": "c03eddbd-b6dc-4677-f40a-4e3cebfef765",
        "colab": {
          "base_uri": "https://localhost:8080/",
          "height": 34
        }
      },
      "source": [
        "os.chdir('/content/drive/My Drive/PlantVillage')\n",
        "\n",
        "print(os.getcwd())\n",
        "\n",
        "from keras.callbacks import ModelCheckpoint,ReduceLROnPlateau,CSVLogger\n",
        "\n",
        "mc = ModelCheckpoint('CNN_MNIST.h5', monitor='val_loss', mode='min', verbose=1, save_best_only=True)\n",
        "\n",
        "filepath = \"saved-model-{epoch:02d}.h5\"\n",
        "\n",
        "#mc1 = ModelCheckpoint(filepath, monitor='val_loss', mode='min', verbose=1, save_best_only=True  ,period=10)\n",
        "\n",
        "cv = keras.callbacks.CSVLogger('CNN_MNIST.csv', separator=',', append=False)\n",
        "\n",
        "#rp = ReduceLROnPlateau(monitor='val_loss', factor=0.1, patience=15, verbose=0, mode='auto', min_delta=0.00)\n",
        "\n",
        "#es = keras.callbacks.EarlyStopping(monitor='val_loss', min_delta=0, patience=0, verbose=0, mode='auto', baseline=None, restore_best_weights=False)"
      ],
      "execution_count": 0,
      "outputs": [
        {
          "output_type": "stream",
          "text": [
            "/content/drive/My Drive/PlantVillage\n"
          ],
          "name": "stdout"
        }
      ]
    },
    {
      "cell_type": "code",
      "metadata": {
        "id": "_AV_7BHI7qzP",
        "colab_type": "code",
        "outputId": "02594b9d-bacc-4b91-e570-08e95551661e",
        "colab": {
          "base_uri": "https://localhost:8080/",
          "height": 1000
        }
      },
      "source": [
        "model.compile(loss=\"categorical_crossentropy\", optimizer=\"sgd\", metrics=['accuracy'])\n",
        "history=model.fit(xtrain, ytrain, validation_split=(0.2), batch_size=256, callbacks= [mc,cv],epochs=50, verbose=1)"
      ],
      "execution_count": 0,
      "outputs": [
        {
          "output_type": "stream",
          "text": [
            "WARNING:tensorflow:From /usr/local/lib/python3.6/dist-packages/tensorflow_core/python/ops/math_grad.py:1424: where (from tensorflow.python.ops.array_ops) is deprecated and will be removed in a future version.\n",
            "Instructions for updating:\n",
            "Use tf.where in 2.0, which has the same broadcast rule as np.where\n",
            "WARNING:tensorflow:From /usr/local/lib/python3.6/dist-packages/keras/backend/tensorflow_backend.py:1033: The name tf.assign_add is deprecated. Please use tf.compat.v1.assign_add instead.\n",
            "\n",
            "WARNING:tensorflow:From /usr/local/lib/python3.6/dist-packages/keras/backend/tensorflow_backend.py:1020: The name tf.assign is deprecated. Please use tf.compat.v1.assign instead.\n",
            "\n",
            "Train on 952 samples, validate on 238 samples\n",
            "Epoch 1/50\n",
            "952/952 [==============================] - 11s 12ms/step - loss: 0.5757 - acc: 0.6208 - val_loss: 0.4922 - val_acc: 0.7479\n",
            "\n",
            "Epoch 00001: val_loss improved from inf to 0.49218, saving model to CNN_MNIST.h5\n",
            "Epoch 2/50\n",
            "952/952 [==============================] - 1s 1ms/step - loss: 0.4295 - acc: 0.7889 - val_loss: 0.4306 - val_acc: 0.7479\n",
            "\n",
            "Epoch 00002: val_loss improved from 0.49218 to 0.43056, saving model to CNN_MNIST.h5\n",
            "Epoch 3/50\n",
            "952/952 [==============================] - 1s 1ms/step - loss: 0.3566 - acc: 0.8141 - val_loss: 0.4043 - val_acc: 0.7479\n",
            "\n",
            "Epoch 00003: val_loss improved from 0.43056 to 0.40425, saving model to CNN_MNIST.h5\n",
            "Epoch 4/50\n",
            "952/952 [==============================] - 1s 1ms/step - loss: 0.2736 - acc: 0.8897 - val_loss: 0.3029 - val_acc: 0.8319\n",
            "\n",
            "Epoch 00004: val_loss improved from 0.40425 to 0.30291, saving model to CNN_MNIST.h5\n",
            "Epoch 5/50\n",
            "952/952 [==============================] - 1s 2ms/step - loss: 0.2801 - acc: 0.8771 - val_loss: 0.4103 - val_acc: 0.7941\n",
            "\n",
            "Epoch 00005: val_loss did not improve from 0.30291\n",
            "Epoch 6/50\n",
            "952/952 [==============================] - 1s 1ms/step - loss: 0.2088 - acc: 0.9128 - val_loss: 0.1760 - val_acc: 0.9454\n",
            "\n",
            "Epoch 00006: val_loss improved from 0.30291 to 0.17596, saving model to CNN_MNIST.h5\n",
            "Epoch 7/50\n",
            "952/952 [==============================] - 1s 1ms/step - loss: 0.1384 - acc: 0.9559 - val_loss: 0.2068 - val_acc: 0.9076\n",
            "\n",
            "Epoch 00007: val_loss did not improve from 0.17596\n",
            "Epoch 8/50\n",
            "952/952 [==============================] - 1s 1ms/step - loss: 0.1368 - acc: 0.9496 - val_loss: 0.1698 - val_acc: 0.9370\n",
            "\n",
            "Epoch 00008: val_loss improved from 0.17596 to 0.16979, saving model to CNN_MNIST.h5\n",
            "Epoch 9/50\n",
            "952/952 [==============================] - 1s 1ms/step - loss: 0.1299 - acc: 0.9485 - val_loss: 0.2452 - val_acc: 0.8908\n",
            "\n",
            "Epoch 00009: val_loss did not improve from 0.16979\n",
            "Epoch 10/50\n",
            "952/952 [==============================] - 1s 1ms/step - loss: 0.1280 - acc: 0.9496 - val_loss: 0.1479 - val_acc: 0.9496\n",
            "\n",
            "Epoch 00010: val_loss improved from 0.16979 to 0.14789, saving model to CNN_MNIST.h5\n",
            "Epoch 11/50\n",
            "952/952 [==============================] - 1s 1ms/step - loss: 0.0925 - acc: 0.9632 - val_loss: 0.1434 - val_acc: 0.9496\n",
            "\n",
            "Epoch 00011: val_loss improved from 0.14789 to 0.14337, saving model to CNN_MNIST.h5\n",
            "Epoch 12/50\n",
            "952/952 [==============================] - 1s 2ms/step - loss: 0.0869 - acc: 0.9643 - val_loss: 0.1069 - val_acc: 0.9538\n",
            "\n",
            "Epoch 00012: val_loss improved from 0.14337 to 0.10694, saving model to CNN_MNIST.h5\n",
            "Epoch 13/50\n",
            "952/952 [==============================] - 1s 1ms/step - loss: 0.0798 - acc: 0.9685 - val_loss: 0.1283 - val_acc: 0.9580\n",
            "\n",
            "Epoch 00013: val_loss did not improve from 0.10694\n",
            "Epoch 14/50\n",
            "952/952 [==============================] - 1s 1ms/step - loss: 0.1031 - acc: 0.9548 - val_loss: 0.3312 - val_acc: 0.8655\n",
            "\n",
            "Epoch 00014: val_loss did not improve from 0.10694\n",
            "Epoch 15/50\n",
            "952/952 [==============================] - 1s 1ms/step - loss: 0.1284 - acc: 0.9527 - val_loss: 0.1111 - val_acc: 0.9622\n",
            "\n",
            "Epoch 00015: val_loss did not improve from 0.10694\n",
            "Epoch 16/50\n",
            "952/952 [==============================] - 1s 1ms/step - loss: 0.0692 - acc: 0.9727 - val_loss: 0.1078 - val_acc: 0.9622\n",
            "\n",
            "Epoch 00016: val_loss did not improve from 0.10694\n",
            "Epoch 17/50\n",
            "952/952 [==============================] - 1s 2ms/step - loss: 0.0641 - acc: 0.9790 - val_loss: 0.0883 - val_acc: 0.9706\n",
            "\n",
            "Epoch 00017: val_loss improved from 0.10694 to 0.08835, saving model to CNN_MNIST.h5\n",
            "Epoch 18/50\n",
            "952/952 [==============================] - 1s 2ms/step - loss: 0.0636 - acc: 0.9779 - val_loss: 0.0788 - val_acc: 0.9748\n",
            "\n",
            "Epoch 00018: val_loss improved from 0.08835 to 0.07881, saving model to CNN_MNIST.h5\n",
            "Epoch 19/50\n",
            "952/952 [==============================] - 1s 2ms/step - loss: 0.0641 - acc: 0.9758 - val_loss: 0.0750 - val_acc: 0.9790\n",
            "\n",
            "Epoch 00019: val_loss improved from 0.07881 to 0.07503, saving model to CNN_MNIST.h5\n",
            "Epoch 20/50\n",
            "952/952 [==============================] - 1s 2ms/step - loss: 0.0686 - acc: 0.9695 - val_loss: 0.1493 - val_acc: 0.9412\n",
            "\n",
            "Epoch 00020: val_loss did not improve from 0.07503\n",
            "Epoch 21/50\n",
            "952/952 [==============================] - 1s 1ms/step - loss: 0.0702 - acc: 0.9727 - val_loss: 0.0695 - val_acc: 0.9790\n",
            "\n",
            "Epoch 00021: val_loss improved from 0.07503 to 0.06948, saving model to CNN_MNIST.h5\n",
            "Epoch 22/50\n",
            "952/952 [==============================] - 1s 1ms/step - loss: 0.0534 - acc: 0.9832 - val_loss: 0.1117 - val_acc: 0.9580\n",
            "\n",
            "Epoch 00022: val_loss did not improve from 0.06948\n",
            "Epoch 23/50\n",
            "952/952 [==============================] - 1s 1ms/step - loss: 0.0604 - acc: 0.9811 - val_loss: 0.0857 - val_acc: 0.9706\n",
            "\n",
            "Epoch 00023: val_loss did not improve from 0.06948\n",
            "Epoch 24/50\n",
            "952/952 [==============================] - 1s 2ms/step - loss: 0.0468 - acc: 0.9884 - val_loss: 0.0635 - val_acc: 0.9790\n",
            "\n",
            "Epoch 00024: val_loss improved from 0.06948 to 0.06355, saving model to CNN_MNIST.h5\n",
            "Epoch 25/50\n",
            "952/952 [==============================] - 1s 2ms/step - loss: 0.0457 - acc: 0.9874 - val_loss: 0.0885 - val_acc: 0.9664\n",
            "\n",
            "Epoch 00025: val_loss did not improve from 0.06355\n",
            "Epoch 26/50\n",
            "952/952 [==============================] - 1s 1ms/step - loss: 0.0441 - acc: 0.9853 - val_loss: 0.0685 - val_acc: 0.9748\n",
            "\n",
            "Epoch 00026: val_loss did not improve from 0.06355\n",
            "Epoch 27/50\n",
            "952/952 [==============================] - 1s 1ms/step - loss: 0.0428 - acc: 0.9842 - val_loss: 0.0740 - val_acc: 0.9706\n",
            "\n",
            "Epoch 00027: val_loss did not improve from 0.06355\n",
            "Epoch 28/50\n",
            "952/952 [==============================] - 1s 2ms/step - loss: 0.0539 - acc: 0.9779 - val_loss: 0.0581 - val_acc: 0.9790\n",
            "\n",
            "Epoch 00028: val_loss improved from 0.06355 to 0.05809, saving model to CNN_MNIST.h5\n",
            "Epoch 29/50\n",
            "952/952 [==============================] - 1s 2ms/step - loss: 0.0389 - acc: 0.9874 - val_loss: 0.0569 - val_acc: 0.9790\n",
            "\n",
            "Epoch 00029: val_loss improved from 0.05809 to 0.05685, saving model to CNN_MNIST.h5\n",
            "Epoch 30/50\n",
            "952/952 [==============================] - 1s 2ms/step - loss: 0.0390 - acc: 0.9884 - val_loss: 0.0823 - val_acc: 0.9706\n",
            "\n",
            "Epoch 00030: val_loss did not improve from 0.05685\n",
            "Epoch 31/50\n",
            "952/952 [==============================] - 1s 1ms/step - loss: 0.0493 - acc: 0.9832 - val_loss: 0.0566 - val_acc: 0.9790\n",
            "\n",
            "Epoch 00031: val_loss improved from 0.05685 to 0.05659, saving model to CNN_MNIST.h5\n",
            "Epoch 32/50\n",
            "952/952 [==============================] - 1s 2ms/step - loss: 0.0329 - acc: 0.9916 - val_loss: 0.0539 - val_acc: 0.9790\n",
            "\n",
            "Epoch 00032: val_loss improved from 0.05659 to 0.05392, saving model to CNN_MNIST.h5\n",
            "Epoch 33/50\n",
            "952/952 [==============================] - 1s 1ms/step - loss: 0.0317 - acc: 0.9937 - val_loss: 0.0737 - val_acc: 0.9748\n",
            "\n",
            "Epoch 00033: val_loss did not improve from 0.05392\n",
            "Epoch 34/50\n",
            "952/952 [==============================] - 1s 1ms/step - loss: 0.0463 - acc: 0.9842 - val_loss: 0.0603 - val_acc: 0.9748\n",
            "\n",
            "Epoch 00034: val_loss did not improve from 0.05392\n",
            "Epoch 35/50\n",
            "952/952 [==============================] - 1s 2ms/step - loss: 0.0294 - acc: 0.9916 - val_loss: 0.0503 - val_acc: 0.9790\n",
            "\n",
            "Epoch 00035: val_loss improved from 0.05392 to 0.05033, saving model to CNN_MNIST.h5\n",
            "Epoch 36/50\n",
            "952/952 [==============================] - 1s 2ms/step - loss: 0.0267 - acc: 0.9947 - val_loss: 0.0785 - val_acc: 0.9706\n",
            "\n",
            "Epoch 00036: val_loss did not improve from 0.05033\n",
            "Epoch 37/50\n",
            "952/952 [==============================] - 1s 1ms/step - loss: 0.0448 - acc: 0.9821 - val_loss: 0.0653 - val_acc: 0.9748\n",
            "\n",
            "Epoch 00037: val_loss did not improve from 0.05033\n",
            "Epoch 38/50\n",
            "952/952 [==============================] - 1s 1ms/step - loss: 0.0273 - acc: 0.9926 - val_loss: 0.0529 - val_acc: 0.9748\n",
            "\n",
            "Epoch 00038: val_loss did not improve from 0.05033\n",
            "Epoch 39/50\n",
            "952/952 [==============================] - 1s 1ms/step - loss: 0.0332 - acc: 0.9874 - val_loss: 0.0490 - val_acc: 0.9790\n",
            "\n",
            "Epoch 00039: val_loss improved from 0.05033 to 0.04901, saving model to CNN_MNIST.h5\n",
            "Epoch 40/50\n",
            "952/952 [==============================] - 1s 1ms/step - loss: 0.0320 - acc: 0.9884 - val_loss: 0.0629 - val_acc: 0.9748\n",
            "\n",
            "Epoch 00040: val_loss did not improve from 0.04901\n",
            "Epoch 41/50\n",
            "952/952 [==============================] - 1s 1ms/step - loss: 0.0253 - acc: 0.9947 - val_loss: 0.0682 - val_acc: 0.9748\n",
            "\n",
            "Epoch 00041: val_loss did not improve from 0.04901\n",
            "Epoch 42/50\n",
            "952/952 [==============================] - 1s 1ms/step - loss: 0.0197 - acc: 0.9968 - val_loss: 0.0623 - val_acc: 0.9790\n",
            "\n",
            "Epoch 00042: val_loss did not improve from 0.04901\n",
            "Epoch 43/50\n",
            "952/952 [==============================] - 1s 1ms/step - loss: 0.0209 - acc: 0.9958 - val_loss: 0.0514 - val_acc: 0.9790\n",
            "\n",
            "Epoch 00043: val_loss did not improve from 0.04901\n",
            "Epoch 44/50\n",
            "952/952 [==============================] - 1s 1ms/step - loss: 0.0173 - acc: 0.9968 - val_loss: 0.0627 - val_acc: 0.9748\n",
            "\n",
            "Epoch 00044: val_loss did not improve from 0.04901\n",
            "Epoch 45/50\n",
            "952/952 [==============================] - 1s 1ms/step - loss: 0.0185 - acc: 0.9968 - val_loss: 0.0534 - val_acc: 0.9790\n",
            "\n",
            "Epoch 00045: val_loss did not improve from 0.04901\n",
            "Epoch 46/50\n",
            "952/952 [==============================] - 1s 1ms/step - loss: 0.0158 - acc: 0.9979 - val_loss: 0.0737 - val_acc: 0.9706\n",
            "\n",
            "Epoch 00046: val_loss did not improve from 0.04901\n",
            "Epoch 47/50\n",
            "952/952 [==============================] - 1s 1ms/step - loss: 0.0167 - acc: 0.9989 - val_loss: 0.0569 - val_acc: 0.9790\n",
            "\n",
            "Epoch 00047: val_loss did not improve from 0.04901\n",
            "Epoch 48/50\n",
            "952/952 [==============================] - 1s 1ms/step - loss: 0.0147 - acc: 0.9979 - val_loss: 0.0532 - val_acc: 0.9790\n",
            "\n",
            "Epoch 00048: val_loss did not improve from 0.04901\n",
            "Epoch 49/50\n",
            "952/952 [==============================] - 1s 1ms/step - loss: 0.0152 - acc: 0.9989 - val_loss: 0.0683 - val_acc: 0.9748\n",
            "\n",
            "Epoch 00049: val_loss did not improve from 0.04901\n",
            "Epoch 50/50\n",
            "952/952 [==============================] - 1s 1ms/step - loss: 0.0134 - acc: 0.9989 - val_loss: 0.0636 - val_acc: 0.9748\n",
            "\n",
            "Epoch 00050: val_loss did not improve from 0.04901\n"
          ],
          "name": "stdout"
        }
      ]
    },
    {
      "cell_type": "markdown",
      "metadata": {
        "id": "WO3Gv-ZvSBBv",
        "colab_type": "text"
      },
      "source": [
        "### Evaluate"
      ]
    },
    {
      "cell_type": "code",
      "metadata": {
        "id": "LMFb-yGhF-T6",
        "colab_type": "code",
        "outputId": "c74ef92a-f9f6-47c3-fb2c-c04ff5ec0ce1",
        "colab": {
          "base_uri": "https://localhost:8080/",
          "height": 52
        }
      },
      "source": [
        "model.evaluate(xtest,ytest)"
      ],
      "execution_count": 0,
      "outputs": [
        {
          "output_type": "stream",
          "text": [
            "587/587 [==============================] - 1s 2ms/step\n"
          ],
          "name": "stdout"
        },
        {
          "output_type": "execute_result",
          "data": {
            "text/plain": [
              "[0.07170986156479107, 0.979557069846678]"
            ]
          },
          "metadata": {
            "tags": []
          },
          "execution_count": 33
        }
      ]
    },
    {
      "cell_type": "markdown",
      "metadata": {
        "id": "ad6-UlSISEwQ",
        "colab_type": "text"
      },
      "source": [
        "### Prediction"
      ]
    },
    {
      "cell_type": "code",
      "metadata": {
        "id": "CFrhtFNvSFbh",
        "colab_type": "code",
        "outputId": "3e800af3-b898-48a3-800b-8348de539946",
        "colab": {
          "base_uri": "https://localhost:8080/",
          "height": 52
        }
      },
      "source": [
        "pred=model.predict(xtest[0].reshape(1,256,256,3))\n",
        "print(pred)\n",
        "print(pred.argmax())"
      ],
      "execution_count": 0,
      "outputs": [
        {
          "output_type": "stream",
          "text": [
            "[[9.999964e-01 3.551782e-06]]\n",
            "0\n"
          ],
          "name": "stdout"
        }
      ]
    },
    {
      "cell_type": "code",
      "metadata": {
        "id": "NXrljEXjGGcs",
        "colab_type": "code",
        "outputId": "73dc5f5d-89bf-4e37-cc53-79451fcf7256",
        "colab": {
          "base_uri": "https://localhost:8080/",
          "height": 69
        }
      },
      "source": [
        "test_loss,test_acc=model.evaluate(xtest,ytest)\n",
        "print(test_loss)\n",
        "print(test_acc)"
      ],
      "execution_count": 0,
      "outputs": [
        {
          "output_type": "stream",
          "text": [
            "587/587 [==============================] - 1s 1ms/step\n",
            "0.07170986156479107\n",
            "0.979557069846678\n"
          ],
          "name": "stdout"
        }
      ]
    },
    {
      "cell_type": "markdown",
      "metadata": {
        "id": "3XAdho_fSLlk",
        "colab_type": "text"
      },
      "source": [
        "### Loss and Accuracy Curves"
      ]
    },
    {
      "cell_type": "code",
      "metadata": {
        "id": "ANMlS2hSGGpb",
        "colab_type": "code",
        "colab": {}
      },
      "source": [
        "train_loss = history.history['loss']\n",
        "train_acc = history.history['acc']\n",
        "val_loss = history.history['val_loss']\n",
        "val_acc = history.history['val_acc']\n",
        "xc=range(len(train_loss))"
      ],
      "execution_count": 0,
      "outputs": []
    },
    {
      "cell_type": "code",
      "metadata": {
        "id": "8NqqIltwGGvM",
        "colab_type": "code",
        "outputId": "9ae86fd8-a8b5-48b5-d256-d9438a7bfb92",
        "colab": {
          "base_uri": "https://localhost:8080/",
          "height": 299
        }
      },
      "source": [
        "import matplotlib.pyplot as plt\n",
        "%matplotlib inline\n",
        "plt.plot(xc, train_loss)\n",
        "plt.plot(xc, val_loss)\n",
        "plt.xlabel(\"Epoch\")\n",
        "plt.ylabel(\"Loss\")\n",
        "plt.legend(['train','val'])"
      ],
      "execution_count": 0,
      "outputs": [
        {
          "output_type": "execute_result",
          "data": {
            "text/plain": [
              "<matplotlib.legend.Legend at 0x7fbc522712e8>"
            ]
          },
          "metadata": {
            "tags": []
          },
          "execution_count": 38
        },
        {
          "output_type": "display_data",
          "data": {
            "image/png": "[encoded data removed]",
            "text/plain": [
              "<Figure size 432x288 with 1 Axes>"
            ]
          },
          "metadata": {
            "tags": []
          }
        }
      ]
    },
    {
      "cell_type": "code",
      "metadata": {
        "id": "LAAataRe6UIr",
        "colab_type": "code",
        "outputId": "0e6415c4-86a0-4e15-caf2-78f3f93380b4",
        "colab": {
          "base_uri": "https://localhost:8080/",
          "height": 296
        }
      },
      "source": [
        "import matplotlib.pyplot as plt\n",
        "%matplotlib inline\n",
        "plt.plot(xc, train_acc)\n",
        "plt.plot(xc, val_acc)\n",
        "plt.xlabel(\"Epoch\")\n",
        "plt.ylabel(\"Acc\")\n",
        "plt.legend(['train','val'])"
      ],
      "execution_count": 0,
      "outputs": [
        {
          "output_type": "execute_result",
          "data": {
            "text/plain": [
              "<matplotlib.legend.Legend at 0x7fbc51f7da20>"
            ]
          },
          "metadata": {
            "tags": []
          },
          "execution_count": 39
        },
        {
          "output_type": "display_data",
          "data": {
            "image/png": "[encoded data removed]",
            "text/plain": [
              "<Figure size 432x288 with 1 Axes>"
            ]
          },
          "metadata": {
            "tags": []
          }
        }
      ]
    },
    {
      "cell_type": "code",
      "metadata": {
        "id": "DXL5_36FGG89",
        "colab_type": "code",
        "outputId": "996b8222-25a1-43d4-f025-9d44b37e61fa",
        "colab": {
          "base_uri": "https://localhost:8080/",
          "height": 190
        }
      },
      "source": [
        "%matplotlib inline\n",
        "for i in range(10):\n",
        "    pred = model.predict(xtest[i].reshape(1, 256, 256, 3))\n",
        "    print(\"\"+str(i+1)+\" Actual is \"+ \" \" + str(ytest[i])+\" Predicted is \"+str(pred.argmax()))"
      ],
      "execution_count": 0,
      "outputs": [
        {
          "output_type": "stream",
          "text": [
            "1 Actual is  [1. 0.] Predicted is 0\n",
            "2 Actual is  [1. 0.] Predicted is 0\n",
            "3 Actual is  [1. 0.] Predicted is 0\n",
            "4 Actual is  [1. 0.] Predicted is 0\n",
            "5 Actual is  [1. 0.] Predicted is 0\n",
            "6 Actual is  [1. 0.] Predicted is 0\n",
            "7 Actual is  [1. 0.] Predicted is 0\n",
            "8 Actual is  [1. 0.] Predicted is 0\n",
            "9 Actual is  [1. 0.] Predicted is 0\n",
            "10 Actual is  [1. 0.] Predicted is 0\n"
          ],
          "name": "stdout"
        }
      ]
    },
    {
      "cell_type": "code",
      "metadata": {
        "id": "pFmcXsM6GG0L",
        "colab_type": "code",
        "outputId": "a9cfb00a-b13b-4158-d7ea-f785b2d6dd38",
        "colab": {
          "base_uri": "https://localhost:8080/",
          "height": 173
        }
      },
      "source": [
        "import numpy as np\n",
        "from sklearn.metrics import classification_report,confusion_matrix\n",
        "import itertools\n",
        "\n",
        "Y_pred = model.predict(xtest)\n",
        "y_pred = np.argmax(Y_pred, axis=1)\n",
        "target_names = ['class 0', 'class 1']\n",
        "print(classification_report(np.argmax(ytest,axis=1), y_pred,target_names=target_names))"
      ],
      "execution_count": 0,
      "outputs": [
        {
          "output_type": "stream",
          "text": [
            "              precision    recall  f1-score   support\n",
            "\n",
            "     class 0       0.98      0.99      0.99       475\n",
            "     class 1       0.97      0.92      0.94       112\n",
            "\n",
            "    accuracy                           0.98       587\n",
            "   macro avg       0.98      0.96      0.97       587\n",
            "weighted avg       0.98      0.98      0.98       587\n",
            "\n"
          ],
          "name": "stdout"
        }
      ]
    },
    {
      "cell_type": "code",
      "metadata": {
        "id": "DqX1NSY0Qr03",
        "colab_type": "code",
        "colab": {}
      },
      "source": [
        "def plot_confusion_matrix(cm, classes,\n",
        "                          normalize=False,\n",
        "                          title='Confusion matrix',\n",
        "                          cmap=plt.cm.Blues):\n",
        "    \"\"\"\n",
        "    This function prints and plots the confusion matrix.\n",
        "    Normalization can be applied by setting `normalize=True`.\n",
        "    \"\"\"\n",
        "    plt.imshow(cm, interpolation='nearest', cmap=cmap)\n",
        "    plt.title(title)\n",
        "    plt.colorbar()\n",
        "    tick_marks = np.arange(len(classes))\n",
        "    plt.xticks(tick_marks, classes, rotation=45)\n",
        "    plt.yticks(tick_marks, classes)\n",
        "\n",
        "    if normalize:\n",
        "        cm = cm.astype('float') / cm.sum(axis=1)[:, np.newaxis]\n",
        "        print(\"Normalized confusion matrix\")\n",
        "    else:\n",
        "        print('Confusion matrix, without normalization')\n",
        "\n",
        "    print(cm)\n",
        "\n",
        "    thresh = cm.max() / 2.\n",
        "    for i, j in itertools.product(range(cm.shape[0]), range(cm.shape[1])):\n",
        "        plt.text(j, i, cm[i, j],\n",
        "                 horizontalalignment=\"center\",\n",
        "                 color=\"white\" if cm[i, j] > thresh else \"black\")\n",
        "        \n",
        "\n",
        "    plt.tight_layout()\n",
        "    plt.ylabel('True label')\n",
        "    plt.xlabel('Predicted label')"
      ],
      "execution_count": 0,
      "outputs": []
    },
    {
      "cell_type": "code",
      "metadata": {
        "id": "r_Zc96z4Qr6E",
        "colab_type": "code",
        "outputId": "9a8c428a-b653-4de6-d32c-df8f378a1c98",
        "colab": {
          "base_uri": "https://localhost:8080/",
          "height": 781
        }
      },
      "source": [
        "cnf_matrix = (confusion_matrix(np.argmax(ytest,axis=1), y_pred))\n",
        "np.set_printoptions(precision=2)\n",
        "plt.figure(figsize=(10,10))\n",
        "plot_confusion_matrix(cnf_matrix, classes=target_names,\n",
        "                      title='Confusion matrix')\n",
        "#plt.show()"
      ],
      "execution_count": 0,
      "outputs": [
        {
          "output_type": "stream",
          "text": [
            "Confusion matrix, without normalization\n",
            "[[472   3]\n",
            " [  9 103]]\n"
          ],
          "name": "stdout"
        },
        {
          "output_type": "display_data",
          "data": {
            "image/png": "[encoded data removed]",
            "text/plain": [
              "<Figure size 720x720 with 2 Axes>"
            ]
          },
          "metadata": {
            "tags": []
          }
        }
      ]
    },
    {
      "cell_type": "markdown",
      "metadata": {
        "id": "T_J6Gfk_78Ne",
        "colab_type": "text"
      },
      "source": [
        "## Visualization"
      ]
    },
    {
      "cell_type": "code",
      "metadata": {
        "id": "hWnpRcb2Qrw3",
        "colab_type": "code",
        "colab": {}
      },
      "source": [
        "for layer in model.layers:\n",
        "  print(layer)"
      ],
      "execution_count": 0,
      "outputs": []
    },
    {
      "cell_type": "code",
      "metadata": {
        "id": "n_EIFWhwQy41",
        "colab_type": "code",
        "colab": {}
      },
      "source": [
        "from keras.models import Model\n",
        "layer_outputs = [layer.output for layer in model.layers]\n",
        "activation_model = Model(inputs=model.input, outputs=layer_outputs)\n",
        "activations = activation_model.predict(xtrain[10].reshape(1,28,28,1))"
      ],
      "execution_count": 0,
      "outputs": []
    },
    {
      "cell_type": "code",
      "metadata": {
        "id": "x-wyS71SQzHw",
        "colab_type": "code",
        "colab": {}
      },
      "source": [
        "def display_activation(activations, col_size, row_size, act_index):\n",
        "    activation = activations[act_index]\n",
        "    activation_index=0\n",
        "    fig, ax = plt.subplots(row_size, col_size, figsize=(row_size*3.5,col_size*2.5))\n",
        "    for row in range(0,row_size):\n",
        "        for col in range(0,col_size):\n",
        "            ax[row][col].imshow(activation[0, :, :, activation_index], cmap='gray')\n",
        "            activation_index += 1"
      ],
      "execution_count": 0,
      "outputs": []
    },
    {
      "cell_type": "code",
      "metadata": {
        "id": "YBcuEmlsQzEp",
        "colab_type": "code",
        "colab": {}
      },
      "source": [
        "len(activations)\n",
        "#activations\n",
        "print(activations[0].shape)\n",
        "print(activations[1].shape)\n",
        "print(activations[2].shape)\n",
        "print(activations[3].shape)\n",
        "print(activations[4].shape)\n",
        "print(activations[5].shape)\n",
        "print(activations[6].shape)\n",
        "print(activations[7].shape)"
      ],
      "execution_count": 0,
      "outputs": []
    },
    {
      "cell_type": "code",
      "metadata": {
        "id": "038zY9fNQzAo",
        "colab_type": "code",
        "colab": {}
      },
      "source": [
        "print(activations[0].shape)\n",
        "display_activation(activations,3,2,0)"
      ],
      "execution_count": 0,
      "outputs": []
    },
    {
      "cell_type": "code",
      "metadata": {
        "id": "OTr0PchVQy-m",
        "colab_type": "code",
        "colab": {}
      },
      "source": [
        "print(activations[1].shape)\n",
        "display_activation(activations,3,2,1)"
      ],
      "execution_count": 0,
      "outputs": []
    },
    {
      "cell_type": "code",
      "metadata": {
        "id": "TXsC2ucYRGLy",
        "colab_type": "code",
        "colab": {}
      },
      "source": [
        "print(activations[2].shape)\n",
        "display_activation(activations,4,4,2)"
      ],
      "execution_count": 0,
      "outputs": []
    },
    {
      "cell_type": "code",
      "metadata": {
        "id": "c7NMAeS6RGYe",
        "colab_type": "code",
        "colab": {}
      },
      "source": [
        "print(activations[3].shape)\n",
        "display_activation(activations,4,4,3)"
      ],
      "execution_count": 0,
      "outputs": []
    },
    {
      "cell_type": "code",
      "metadata": {
        "id": "E3-8tQTTRGVx",
        "colab_type": "code",
        "colab": {}
      },
      "source": [
        "act_dense_3  = activations[7]\n",
        " \n",
        "y = act_dense_3[0]\n",
        "x = range(len(y))\n",
        "plt.xticks(x)\n",
        "plt.bar(x, y)\n",
        "plt.show()"
      ],
      "execution_count": 0,
      "outputs": []
    },
    {
      "cell_type": "code",
      "metadata": {
        "id": "ugZBEKYpRGSr",
        "colab_type": "code",
        "colab": {}
      },
      "source": [
        "weight_conv2d_1 = model.layers[0].get_weights()[0][:,:,0,:]\n",
        " \n",
        "col_size = 3\n",
        "row_size = 2\n",
        "filter_index = 0\n",
        "fig, ax = plt.subplots(row_size, col_size, figsize=(5,5))\n",
        "for row in range(0,row_size): \n",
        "  for col in range(0,col_size):\n",
        "    ax[row][col].imshow(weight_conv2d_1[:,:,filter_index],cmap=\"gray\")\n",
        "    filter_index += 1"
      ],
      "execution_count": 0,
      "outputs": []
    },
    {
      "cell_type": "code",
      "metadata": {
        "id": "xnjcRxdeRRgi",
        "colab_type": "code",
        "colab": {}
      },
      "source": [
        "print(weight_conv2d_1[:,:,0])\n",
        "print(\"\")\n",
        "print(weight_conv2d_1[:,:,1])\n",
        "print(\"\")\n",
        "print(weight_conv2d_1[:,:,2])\n",
        "print(\"\")\n",
        "print(weight_conv2d_1[:,:,3])\n",
        "print(\"\")\n",
        "print(weight_conv2d_1[:,:,4])\n",
        "print(\"\")\n",
        "print(weight_conv2d_1[:,:,5])"
      ],
      "execution_count": 0,
      "outputs": []
    },
    {
      "cell_type": "code",
      "metadata": {
        "id": "rDGYpywRRRdn",
        "colab_type": "code",
        "colab": {}
      },
      "source": [
        "weight_conv2d_2 = model.layers[2].get_weights()[0][:,:,0,:]\n",
        "col_size = 4\n",
        "row_size = 4\n",
        "filter_index = 0\n",
        "fig, ax = plt.subplots(row_size, col_size, figsize=(12,8))\n",
        "for row in range(0,row_size): \n",
        "  for col in range(0,col_size):\n",
        "    ax[row][col].imshow(weight_conv2d_2[:,:,filter_index],cmap=\"gray\")\n",
        "    filter_index += 1"
      ],
      "execution_count": 0,
      "outputs": []
    },
    {
      "cell_type": "code",
      "metadata": {
        "id": "fAJ_JDw9RRax",
        "colab_type": "code",
        "colab": {}
      },
      "source": [
        "print(weight_conv2d_2[:,:,0])\n",
        "print(\"\")\n",
        "print(weight_conv2d_2[:,:,1])\n",
        "print(\"\")\n",
        "print(weight_conv2d_2[:,:,2])\n",
        "print(\"\")\n",
        "print(weight_conv2d_2[:,:,3])\n",
        "print(\"\")\n",
        "print(weight_conv2d_2[:,:,4])\n",
        "print(\"\")\n",
        "print(weight_conv2d_2[:,:,5])\n",
        "print(\"\")\n",
        "print(weight_conv2d_2[:,:,6])\n",
        "print(\"\")\n",
        "print(weight_conv2d_2[:,:,7])\n",
        "print(\"\")\n",
        "print(weight_conv2d_2[:,:,8])\n",
        "print(\"\")\n",
        "print(weight_conv2d_2[:,:,9])\n",
        "print(\"\")\n",
        "print(weight_conv2d_2[:,:,10])\n",
        "print(\"\")\n",
        "print(weight_conv2d_2[:,:,11])\n",
        "print(\"\")\n",
        "print(weight_conv2d_2[:,:,12])\n",
        "print(\"\")\n",
        "print(weight_conv2d_2[:,:,13])\n",
        "print(\"\")\n",
        "print(weight_conv2d_2[:,:,14])\n",
        "print(\"\")\n",
        "print(weight_conv2d_2[:,:,15])"
      ],
      "execution_count": 0,
      "outputs": []
    }
  ]
}